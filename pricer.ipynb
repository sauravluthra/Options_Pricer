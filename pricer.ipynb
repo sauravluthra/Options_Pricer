{
  "cells": [
    {
      "cell_type": "markdown",
      "metadata": {
        "id": "8m8fMUe2nZdd"
      },
      "source": [
        "### Options Pricer\n",
        "\n",
        "Saurav Luthra, Dec 2021\n",
        "\n",
        "My goal is to calculate the price of options along a certain stock's option chain using the Black-Scholes Model and Binomial Method, and eventually scrape real-time market data to compare real bid/ask prices to calculated prices. The stock whose options chain is modeled will be user selected, as well as the expiry date for the option chain.\n",
        "\n",
        "I'm hoping this options pricer project will lead me to a more in-depth understanding of options pricing and volatility, as well as the technical tools needed to create an algorithmic trading strategy from scratch. This project will not account for transaction costs and will not be able to execute trades on its own (due to some external restrictions) however I hope to implement such features in the future."
      ]
    },
    {
      "cell_type": "code",
      "execution_count": 31,
      "metadata": {
        "id": "PxAS79vxnZde"
      },
      "outputs": [],
      "source": [
        "from math import log, sqrt, pi, exp\n",
        "import sys\n",
        "from datetime import datetime, date\n",
        "import numpy as np\n",
        "import pandas as pd\n",
        "from pandas import DataFrame\n",
        "import os\n",
        "import pandas_datareader as web\n",
        "from math import *\n",
        "import matplotlib"
      ]
    },
    {
      "cell_type": "code",
      "execution_count": 45,
      "metadata": {},
      "outputs": [],
      "source": [
        "def norm_cdf(x):\n",
        "    #'Cumulative distribution function for the standard normal distribution'\n",
        "    #https://stackoverflow.com/questions/809362/how-to-calculate-cumulative-normal-distribution\n",
        "    return (1.0 + erf(x / sqrt(2.0))) / 2.0\n",
        "\n",
        "def norm_pdf(x, mean, sd):\n",
        "     #'Probability Density function for the standard normal distribution'\n",
        "    #https://stackoverflow.com/questions/12412895/how-to-calculate-probability-in-a-normal-distribution-given-mean-standard-devi\n",
        "    var = float(sd)**2\n",
        "    denom = (2*math.pi*var)**.5\n",
        "    num = math.exp(-(float(x)-float(mean))**2/(2*var))\n",
        "    return num/denom\n",
        "\n",
        "# S - spot price, K - \n",
        "def d1 (S,K,T,r,sigma):\n",
        "    return(log(S/K) + (r + sigma**2/2.) * T) / (sigma * sqrt(T))\n",
        "\n",
        "def d2 (S,K,T,r,sigma):\n",
        "    return d1(S,K,T,r,sigma) - sigma * sqrt(T)\n",
        "\n",
        "def bs_call (S,K,T,r,sigma):\n",
        "    return S * norm_cdf(d1(S,K,T,r,sigma)) - K * exp(-r * T) * norm_cdf(d2(S,K,T,r,sigma))\n",
        "  \n",
        "def bs_put (S,K,T,r,sigma):\n",
        "    return K * exp(-r * T) - S + bs_call(S,K,T,r,sigma)\n",
        "\n",
        "def call_delta(S,K,T,r,sigma):\n",
        "    return norm_cdf(d1(S,K,T,r,sigma))\n",
        "\n",
        "def call_gamma(S,K,T,r,sigma):\n",
        "    return norm_pdf(d1(S,K,T,r,sigma))/(S*sigma*sqrt(T))\n",
        "\n",
        "def call_vega(S,K,T,r,sigma):\n",
        "    return 0.01*(S*norm_pdf(d1(S,K,T,r,sigma))*sqrt(T))\n",
        "\n",
        "def call_theta(S,K,T,r,sigma):\n",
        "    return 0.01*(-(S*norm_pdf(d1(S,K,T,r,sigma))*sigma)/(2*sqrt(T)) - r*K*exp(-r*T)*norm_cdf(d2(S,K,T,r,sigma)))\n",
        "    \n",
        "def call_rho(S,K,T,r,sigma):\n",
        "    return 0.01*(K*T*exp(-r*T)*norm_cdf(d2(S,K,T,r,sigma)))\n",
        "    \n",
        "def put_delta(S,K,T,r,sigma):\n",
        "    return -norm_cdf(-d1(S,K,T,r,sigma))\n",
        "\n",
        "def put_gamma(S,K,T,r,sigma):\n",
        "    return norm_pdf(d1(S,K,T,r,sigma))/(S*sigma*sqrt(T))\n",
        "\n",
        "def put_vega(S,K,T,r,sigma):\n",
        "    return 0.01*(S*norm_pdf(d1(S,K,T,r,sigma))*sqrt(T))\n",
        "\n",
        "def put_theta(S,K,T,r,sigma):\n",
        "    return 0.01*(-(S*norm_pdf(d1(S,K,T,r,sigma))*sigma)/(2*sqrt(T)) + r*K*exp(-r*T)*norm_cdf(-d2(S,K,T,r,sigma)))\n",
        "\n",
        "def put_rho(S,K,T,r,sigma):\n",
        "    return 0.01*(-K*T*exp(-r*T)*norm_cdf(-d2(S,K,T,r,sigma)))"
      ]
    },
    {
      "cell_type": "code",
      "execution_count": 69,
      "metadata": {},
      "outputs": [
        {
          "name": "stdout",
          "output_type": "stream",
          "text": [
            "Ticker:  AAPL\n"
          ]
        }
      ],
      "source": [
        "stock = input(\"STOCK:\")\n",
        "print(\"Ticker: \", stock)"
      ]
    },
    {
      "cell_type": "code",
      "execution_count": 97,
      "metadata": {},
      "outputs": [
        {
          "name": "stdout",
          "output_type": "stream",
          "text": [
            "Strike Price: $ 170\n"
          ]
        }
      ],
      "source": [
        "strike_price = input(\"STRIKE PRICE:\")\n",
        "print(\"Strike Price: $\", strike_price)"
      ]
    },
    {
      "cell_type": "code",
      "execution_count": 94,
      "metadata": {
        "colab": {
          "base_uri": "https://localhost:8080/"
        },
        "id": "q7HvWqQL1A1N",
        "outputId": "3876580a-9ae7-42a7-8f94-34592941c3dd"
      },
      "outputs": [
        {
          "name": "stdout",
          "output_type": "stream",
          "text": [
            "Today, Yesterday, One Yr Ago: 2022-01-07 20:56:17.467199 2022-01-06 20:56:17.467199 2021-01-07 20:56:17.467199\n"
          ]
        }
      ],
      "source": [
        "expiry = '01-14-2022' #MM-DD-YYYY\n",
        "\n",
        "\n",
        "today = datetime.now()\n",
        "yesterday = today.replace(day=today.day-1)\n",
        "one_year_ago = today.replace(year=today.year-1)\n",
        "\n",
        "print(\"Today, Yesterday, One Yr Ago:\", today, yesterday, one_year_ago)"
      ]
    },
    {
      "cell_type": "code",
      "execution_count": 99,
      "metadata": {
        "colab": {
          "base_uri": "https://localhost:8080/",
          "height": 523
        },
        "id": "KsA1jMCkoW6M",
        "outputId": "1146603c-7eda-4be9-e855-7c3247bc8858"
      },
      "outputs": [],
      "source": [
        "df = web.DataReader(stock, 'yahoo', one_year_ago, today)\n",
        "\n",
        "df = df.sort_values(by=\"Date\")\n",
        "df = df.dropna()\n",
        "df = df.assign(close_day_before=df.Close.shift(1))\n",
        "df['returns'] = ((df.Close - df.close_day_before)/df.close_day_before)\n",
        "\n",
        "sigma = np.sqrt(252) * df['returns'].std()\n",
        "uty = (web.DataReader(\"^TNX\", 'yahoo', yesterday, today))#['Close'].iloc[-1])/100\n",
        "\n",
        "tnx_yield = (uty.iloc[0]['Close'])/100\n",
        "#lcp = df['Close'].iloc[-1]\n",
        "#t = (datetime.strptime(expiry, \"%m-%d-%Y\") - datetime.utcnow()).days / 365\n",
        "\n",
        "#print('The Option Price according to B-S model is: $', bs_call(lcp, strike_price, t, uty, sigma))\n",
        "\n",
        "spot_price = df.iloc[-1]['Close']\n"
      ]
    },
    {
      "cell_type": "code",
      "execution_count": 100,
      "metadata": {},
      "outputs": [
        {
          "data": {
            "text/plain": [
              "172.1699981689453"
            ]
          },
          "execution_count": 100,
          "metadata": {},
          "output_type": "execute_result"
        }
      ],
      "source": [
        "spot_price"
      ]
    },
    {
      "cell_type": "code",
      "execution_count": 36,
      "metadata": {
        "id": "wmTULuV_yUME"
      },
      "outputs": [
        {
          "name": "stdout",
          "output_type": "stream",
          "text": [
            "Implied Volatility: 0.1 %\n"
          ]
        }
      ],
      "source": [
        "def call_implied_volatility(Price, S, K, T, r):\n",
        "    sigma = 0.001\n",
        "    while sigma < 1:\n",
        "        Price_implied = S * \\\n",
        "            norm_cdf(d1(S, K, T, r, sigma))-K*exp(-r*T) * \\\n",
        "            norm_cdf(d2(S, K, T, r, sigma))\n",
        "        if Price-(Price_implied) < 0.001:\n",
        "            return sigma\n",
        "        sigma += 0.001\n",
        "    return \"Not Found\"\n",
        "\n",
        "def put_implied_volatility(Price, S, K, T, r):\n",
        "    sigma = 0.001\n",
        "    while sigma < 1:\n",
        "        Price_implied = K*exp(-r*T)-S+bs_call(S, K, T, r, sigma)\n",
        "        if Price-(Price_implied) < 0.001:\n",
        "            return sigma\n",
        "        sigma += 0.001\n",
        "    return \"Not Found\"\n",
        "\n",
        "print(\"Implied Volatility: \" +\n",
        "      str(100 * call_implied_volatility(bs_call(lcp, strike_price, t, uty, sigma,), lcp, strike_price, t, uty,)) + \" %\")"
      ]
    },
    {
      "cell_type": "code",
      "execution_count": 91,
      "metadata": {},
      "outputs": [],
      "source": [
        "#S-spot price, K-strike price, T-time until expiry, r-risk free rate\n",
        "#sigma-past year returns volatility, n-num of time steps, cp-call or put, ae-american or european \n",
        "def CRR_binomial_tree(S,K,T,r,sigma,n,cp,ae, div):\n",
        "\n",
        "    u = up_movement(sigma, T, n)\n",
        "    d = down_movement(u)\n",
        "    p_up = prob_u(r, T, n, d, u)\n",
        "    p_down = 1-p_up\n",
        "    \n",
        "    stockTree = stock_price_tree(S, u, d, n)\n",
        "    probTree = probability_tree (n, p_up, p_down)\n",
        "\n",
        "    if ae == 'e':\n",
        "        payoffTree = european_payoff_tree(stockTree, n, K, cp)\n",
        "    elif ae == 'a':\n",
        "        payoffTree = american_payoff_tree(stockTree, n, K, cp)\n",
        "\n",
        "    optionPrice = backwardsDiscount(K, ae, cp, p_up, p_down, n, r, T, div, payoffTree, probTree, stockTree)\n",
        "\n",
        "    print(\"\\nSTOCKTREE  \\n\", stockTree)\n",
        "    print(\"\\nPROBTREE   \\n\", probTree)\n",
        "    print(\"\\nPAYOFFTREE \\n\", payoffTree)\n",
        "    print(\"\\nOPTPRICE   \\n\", optionPrice)\n",
        "    return optionPrice\n",
        "\n",
        "\n",
        "def up_movement(sigma, T, n):\n",
        "\n",
        "    return exp(sigma * sqrt(T/n))\n",
        "\n",
        "def down_movement(u):\n",
        "\n",
        "    return 1/u\n",
        "\n",
        "def prob_u(r, T, n, d, u):\n",
        "\n",
        "    return exp(r * (T/n) - d) / (u - d)\n",
        "\n",
        "def stock_price_tree(S, u ,d, n):\n",
        "    stocktree = np.zeros((n+1, n+1))\n",
        "    for j in range(n+1):\n",
        "        for i in range(j+1):\n",
        "            stocktree[i][j] = S * (u**i) * (d**(j - i))\n",
        "\n",
        "    return stocktree\n",
        "\n",
        "def probability_tree(n, p_up, p_down):\n",
        "    probtree = np.zeros((n+1, n+1))\n",
        "    for j in range(n+1):\n",
        "        for i in range(j+1):\n",
        "            probtree[i][j] = factorial(j) / (factorial(i) * factorial(j - i)) * (p_up**i) * (p_down**(j - i))\n",
        "    \n",
        "    return probtree\n",
        "\n",
        "def european_payoff_tree(stocktree, n, K, cp):\n",
        "    #Initialize all payoff nodes to zeros\n",
        "    payoffTree = np.zeros((n+1, n+1))\n",
        "    iopt = 0\n",
        "    # Get payoffs at terminal nodes at the option maturity\n",
        "    if cp == 'c':\n",
        "        iopt = 1\n",
        "    else:\n",
        "        iopt = -1\n",
        "    # Get payoffs at terminal nodes\n",
        "    for i in range(n+1):\n",
        "        payoffTree[i][n] = np.maximum(0, iopt * (stocktree[i][n]-K))\n",
        "\n",
        "    return payoffTree\n",
        "\n",
        "def american_payoff_tree(stocktree, n, K, cp):\n",
        "    #Initialize all payoff nodes to zeros\n",
        "    payoffTree = np.zeros((n+1, n+1))\n",
        "    iopt = 0\n",
        "    if cp == 'c':\n",
        "        iopt = 1\n",
        "    else:\n",
        "        iopt = -1\n",
        "    # Get payoffs at each node\n",
        "    for j in range(n+1):\n",
        "        for i in range(j+1):\n",
        "            payoffTree[i][j] = np.maximum(0, iopt * (stocktree[i][j]-K))\n",
        "\n",
        "    return payoffTree\n",
        "\n",
        "def backwardsDiscount(K, ae, cp, p_up, p_down, n, r, T, div, payoffTree, probTree, stockTree):\n",
        "    optionprice = 0.0\n",
        "    if ae == 'e':\n",
        "        TerminalPayoff = 0.0\n",
        "        for i in range(n+1):\n",
        "            TerminalPayoff = TerminalPayoff + payoffTree[i][n] * probTree[i][n]\n",
        "     \n",
        "        optionprice = TerminalPayoff * np.exp(-r * T)\n",
        "    else:\n",
        "    # Step backward through tree\n",
        "        if cp == 'c':\n",
        "            iopt = 1\n",
        "        else:\n",
        "            iopt = -1\n",
        "        for j in range(n-1,-1,-1): \n",
        "            for i in range(j+1):\n",
        "                payoffTree[i][j] = (p_up * payoffTree[i+1][j+1] + p_down * payoffTree[i][j+1]) * np.exp(-1 * (r - div) * (T/n))\n",
        "                # Use Early exercise price\n",
        "                payoffTree[i][j] = np.maximum(iopt * (stockTree[i][j] - K), payoffTree[i][j])  \n",
        "   \n",
        "        optionprice = payoffTree[0][0]\n",
        "\n",
        "    return optionprice\n"
      ]
    },
    {
      "cell_type": "code",
      "execution_count": 103,
      "metadata": {},
      "outputs": [
        {
          "name": "stdout",
          "output_type": "stream",
          "text": [
            "SPOT PRICE: $ 172.1699981689453\n",
            "\n",
            "STOCKTREE  \n",
            " [[172.16999817 134.29368407 104.74992027  81.70559823  63.73088176\n",
            "   49.71048958]\n",
            " [  0.         220.72898272 172.16999817 134.29368407 104.74992027\n",
            "   81.70559823]\n",
            " [  0.           0.         282.9835879  220.72898272 172.16999817\n",
            "  134.29368407]\n",
            " [  0.           0.           0.         362.79653916 282.9835879\n",
            "  220.72898272]\n",
            " [  0.           0.           0.           0.         465.12000856\n",
            "  362.79653916]\n",
            " [  0.           0.           0.           0.           0.\n",
            "  596.30288333]]\n",
            "\n",
            "PROBTREE   \n",
            " [[1.00000000e+00 7.05944559e-02 4.98357721e-03 3.51812921e-04\n",
            "  2.48360418e-05 1.75328685e-06]\n",
            " [0.00000000e+00 9.29405544e-01 1.31221757e-01 1.38952929e-02\n",
            "  1.30790752e-03 1.15413775e-04]\n",
            " [0.00000000e+00 0.00000000e+00 8.63794665e-01 1.82937343e-01\n",
            "  2.58287244e-02 3.03894125e-03]\n",
            " [0.00000000e+00 0.00000000e+00 0.00000000e+00 8.02815551e-01\n",
            "  2.26697308e-01 4.00089328e-02]\n",
            " [0.00000000e+00 0.00000000e+00 0.00000000e+00 0.00000000e+00\n",
            "  7.46141224e-01 2.63367169e-01]\n",
            " [0.00000000e+00 0.00000000e+00 0.00000000e+00 0.00000000e+00\n",
            "  0.00000000e+00 6.93467790e-01]]\n",
            "\n",
            "PAYOFFTREE \n",
            " [[318.90605637 144.72908515  38.61871911   0.           0.\n",
            "    0.        ]\n",
            " [  0.         338.26688614 155.57127011  42.29450643   0.\n",
            "    0.        ]\n",
            " [  0.           0.         358.64697341 167.16623023  46.32016069\n",
            "    0.        ]\n",
            " [  0.           0.           0.         380.08615444 179.55904108\n",
            "   50.72898272]\n",
            " [  0.           0.           0.           0.         402.62463332\n",
            "  192.79653916]\n",
            " [  0.           0.           0.           0.           0.\n",
            "  426.30288333]]\n",
            "\n",
            "OPTPRICE   \n",
            " 318.9060563699812\n"
          ]
        },
        {
          "data": {
            "text/plain": [
              "318.9060563699812"
            ]
          },
          "execution_count": 103,
          "metadata": {},
          "output_type": "execute_result"
        }
      ],
      "source": [
        "#S-spot price, K-strike price, T-time until expiry, r-risk free rate\n",
        "#sigma-past year returns volatility, n-num of time steps, cp-call or put, ae-american or european \n",
        "print(\"SPOT PRICE: $\", spot_price)\n",
        "CRR_binomial_tree(spot_price,  int(strike_price), 5 , tnx_yield, sigma, 5, 'c', 'a', 0)"
      ]
    }
  ],
  "metadata": {
    "colab": {
      "name": "pricer.ipynb",
      "provenance": []
    },
    "interpreter": {
      "hash": "aee8b7b246df8f9039afb4144a1f6fd8d2ca17a180786b69acc140d282b71a49"
    },
    "kernelspec": {
      "display_name": "Python 3.9.7 64-bit",
      "language": "python",
      "name": "python3"
    },
    "language_info": {
      "codemirror_mode": {
        "name": "ipython",
        "version": 3
      },
      "file_extension": ".py",
      "mimetype": "text/x-python",
      "name": "python",
      "nbconvert_exporter": "python",
      "pygments_lexer": "ipython3",
      "version": "3.9.7"
    },
    "orig_nbformat": 4
  },
  "nbformat": 4,
  "nbformat_minor": 0
}
