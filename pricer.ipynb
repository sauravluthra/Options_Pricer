{
  "cells": [
    {
      "cell_type": "markdown",
      "metadata": {
        "id": "8m8fMUe2nZdd"
      },
      "source": [
        "### Options Pricer\n",
        "\n",
        "Saurav Luthra, Dec 2021\n",
        "\n",
        "My goal is to calculate the price of options along a certain stock's option chain using the Black-Scholes Model, and eventually scrape real-time market data to compare real bid/ask prices to calculated prices. The stock whose options chain is modeled will be user selected, as well as the expiry date for the option chain.\n",
        "\n",
        "I'm hoping this options pricer project will lead me to a more in-depth understanding of options pricing and volatility, as well as the technical tools needed to create an algorithmic trading strategy from scratch. This project will not account for transaction costs and will not be able to execute trades on its own (due to some external restrictions) however I hope to implement such features in the future."
      ]
    },
    {
      "cell_type": "code",
      "execution_count": 31,
      "metadata": {
        "id": "PxAS79vxnZde"
      },
      "outputs": [],
      "source": [
        "from math import log, sqrt, pi, exp\n",
        "import sys\n",
        "from datetime import datetime, date\n",
        "import numpy as np\n",
        "import pandas as pd\n",
        "from pandas import DataFrame\n",
        "import os\n",
        "import pandas_datareader as web\n",
        "from math import *"
      ]
    },
    {
      "cell_type": "code",
      "execution_count": 35,
      "metadata": {},
      "outputs": [],
      "source": [
        "def norm_cdf(x):\n",
        "    #'Cumulative distribution function for the standard normal distribution'\n",
        "    #https://stackoverflow.com/questions/809362/how-to-calculate-cumulative-normal-distribution\n",
        "    return (1.0 + erf(x / sqrt(2.0))) / 2.0\n",
        "\n",
        "def norm_pdf(x, mean, sd):\n",
        "     #'Probability Density function for the standard normal distribution'\n",
        "    #https://stackoverflow.com/questions/12412895/how-to-calculate-probability-in-a-normal-distribution-given-mean-standard-devi\n",
        "    var = float(sd)**2\n",
        "    denom = (2*math.pi*var)**.5\n",
        "    num = math.exp(-(float(x)-float(mean))**2/(2*var))\n",
        "    return num/denom"
      ]
    },
    {
      "cell_type": "code",
      "execution_count": 28,
      "metadata": {
        "id": "BI_XkolXnZdg"
      },
      "outputs": [],
      "source": [
        "def d1 (S,K,T,r,sigma):\n",
        "    return(log(S/K) + (r + sigma**2/2.) * T) / (sigma * sqrt(T))\n",
        "\n",
        "def d2 (S,K,T,r,sigma):\n",
        "    return d1(S,K,T,r,sigma) - sigma * sqrt(T)\n",
        "\n",
        "def bs_call (S,K,T,r,sigma):\n",
        "    return S * norm_cdf(d1(S,K,T,r,sigma)) - K * exp(-r * T) * norm_cdf(d2(S,K,T,r,sigma))\n",
        "  \n",
        "def bs_put (S,K,T,r,sigma):\n",
        "    return K * exp(-r * T) - S + bs_call(S,K,T,r,sigma)"
      ]
    },
    {
      "cell_type": "code",
      "execution_count": 25,
      "metadata": {
        "colab": {
          "base_uri": "https://localhost:8080/"
        },
        "id": "q7HvWqQL1A1N",
        "outputId": "3876580a-9ae7-42a7-8f94-34592941c3dd"
      },
      "outputs": [
        {
          "name": "stdout",
          "output_type": "stream",
          "text": [
            "Today, One Yr Ago: 2022-01-02 23:22:34.458453 2021-01-02 23:22:34.458453\n"
          ]
        }
      ],
      "source": [
        "stock = 'SPY'\n",
        "expiry = '12-18-2023'\n",
        "strike_price = 200\n",
        "\n",
        "today = datetime.now()\n",
        "one_year_ago = today.replace(year=today.year-1)\n",
        "\n",
        "print(\"Today, One Yr Ago:\", today, one_year_ago)"
      ]
    },
    {
      "cell_type": "code",
      "execution_count": 30,
      "metadata": {
        "colab": {
          "base_uri": "https://localhost:8080/",
          "height": 523
        },
        "id": "KsA1jMCkoW6M",
        "outputId": "1146603c-7eda-4be9-e855-7c3247bc8858"
      },
      "outputs": [
        {
          "name": "stdout",
          "output_type": "stream",
          "text": [
            "The Option Price is:  280.7352458121694\n"
          ]
        }
      ],
      "source": [
        "df = web.DataReader(stock, 'yahoo', one_year_ago, today)\n",
        "\n",
        "df = df.sort_values(by=\"Date\")\n",
        "df = df.dropna()\n",
        "df = df.assign(close_day_before=df.Close.shift(1))\n",
        "df['returns'] = ((df.Close - df.close_day_before)/df.close_day_before)\n",
        "\n",
        "sigma = np.sqrt(252) * df['returns'].std()\n",
        "uty = 0.015\n",
        "#(web.DataReader(\"^TNX\", 'yahoo', today.replace(day=today.day-1), today)['Close'].iloc[-1])/100\n",
        "lcp = df['Close'].iloc[-1]\n",
        "t = (datetime.strptime(expiry, \"%m-%d-%Y\") - datetime.utcnow()).days / 365\n",
        "\n",
        "print('The Option Price is: $', bs_call(lcp, strike_price, t, uty, sigma))"
      ]
    },
    {
      "cell_type": "code",
      "execution_count": 32,
      "metadata": {},
      "outputs": [
        {
          "data": {
            "text/html": [
              "<div>\n",
              "<style scoped>\n",
              "    .dataframe tbody tr th:only-of-type {\n",
              "        vertical-align: middle;\n",
              "    }\n",
              "\n",
              "    .dataframe tbody tr th {\n",
              "        vertical-align: top;\n",
              "    }\n",
              "\n",
              "    .dataframe thead th {\n",
              "        text-align: right;\n",
              "    }\n",
              "</style>\n",
              "<table border=\"1\" class=\"dataframe\">\n",
              "  <thead>\n",
              "    <tr style=\"text-align: right;\">\n",
              "      <th></th>\n",
              "      <th>High</th>\n",
              "      <th>Low</th>\n",
              "      <th>Open</th>\n",
              "      <th>Close</th>\n",
              "      <th>Volume</th>\n",
              "      <th>Adj Close</th>\n",
              "      <th>close_day_before</th>\n",
              "      <th>returns</th>\n",
              "    </tr>\n",
              "    <tr>\n",
              "      <th>Date</th>\n",
              "      <th></th>\n",
              "      <th></th>\n",
              "      <th></th>\n",
              "      <th></th>\n",
              "      <th></th>\n",
              "      <th></th>\n",
              "      <th></th>\n",
              "      <th></th>\n",
              "    </tr>\n",
              "  </thead>\n",
              "  <tbody>\n",
              "    <tr>\n",
              "      <th>2021-01-04</th>\n",
              "      <td>375.450012</td>\n",
              "      <td>364.820007</td>\n",
              "      <td>375.309998</td>\n",
              "      <td>368.790009</td>\n",
              "      <td>110210800.0</td>\n",
              "      <td>363.936432</td>\n",
              "      <td>NaN</td>\n",
              "      <td>NaN</td>\n",
              "    </tr>\n",
              "    <tr>\n",
              "      <th>2021-01-05</th>\n",
              "      <td>372.500000</td>\n",
              "      <td>368.049988</td>\n",
              "      <td>368.100006</td>\n",
              "      <td>371.329987</td>\n",
              "      <td>66426200.0</td>\n",
              "      <td>366.442993</td>\n",
              "      <td>368.790009</td>\n",
              "      <td>0.006887</td>\n",
              "    </tr>\n",
              "    <tr>\n",
              "      <th>2021-01-06</th>\n",
              "      <td>376.980011</td>\n",
              "      <td>369.119995</td>\n",
              "      <td>369.709991</td>\n",
              "      <td>373.549988</td>\n",
              "      <td>107997700.0</td>\n",
              "      <td>368.633789</td>\n",
              "      <td>371.329987</td>\n",
              "      <td>0.005979</td>\n",
              "    </tr>\n",
              "    <tr>\n",
              "      <th>2021-01-07</th>\n",
              "      <td>379.899994</td>\n",
              "      <td>375.910004</td>\n",
              "      <td>376.100006</td>\n",
              "      <td>379.100006</td>\n",
              "      <td>68766800.0</td>\n",
              "      <td>374.110748</td>\n",
              "      <td>373.549988</td>\n",
              "      <td>0.014857</td>\n",
              "    </tr>\n",
              "    <tr>\n",
              "      <th>2021-01-08</th>\n",
              "      <td>381.489990</td>\n",
              "      <td>377.100006</td>\n",
              "      <td>380.589996</td>\n",
              "      <td>381.260010</td>\n",
              "      <td>71677200.0</td>\n",
              "      <td>376.242371</td>\n",
              "      <td>379.100006</td>\n",
              "      <td>0.005698</td>\n",
              "    </tr>\n",
              "    <tr>\n",
              "      <th>...</th>\n",
              "      <td>...</td>\n",
              "      <td>...</td>\n",
              "      <td>...</td>\n",
              "      <td>...</td>\n",
              "      <td>...</td>\n",
              "      <td>...</td>\n",
              "      <td>...</td>\n",
              "      <td>...</td>\n",
              "    </tr>\n",
              "    <tr>\n",
              "      <th>2021-12-27</th>\n",
              "      <td>477.309998</td>\n",
              "      <td>472.010010</td>\n",
              "      <td>472.059998</td>\n",
              "      <td>477.260010</td>\n",
              "      <td>56808600.0</td>\n",
              "      <td>477.260010</td>\n",
              "      <td>470.600006</td>\n",
              "      <td>0.014152</td>\n",
              "    </tr>\n",
              "    <tr>\n",
              "      <th>2021-12-28</th>\n",
              "      <td>478.809998</td>\n",
              "      <td>476.059998</td>\n",
              "      <td>477.720001</td>\n",
              "      <td>476.869995</td>\n",
              "      <td>47274600.0</td>\n",
              "      <td>476.869995</td>\n",
              "      <td>477.260010</td>\n",
              "      <td>-0.000817</td>\n",
              "    </tr>\n",
              "    <tr>\n",
              "      <th>2021-12-29</th>\n",
              "      <td>478.559998</td>\n",
              "      <td>475.920013</td>\n",
              "      <td>476.980011</td>\n",
              "      <td>477.480011</td>\n",
              "      <td>54503000.0</td>\n",
              "      <td>477.480011</td>\n",
              "      <td>476.869995</td>\n",
              "      <td>0.001279</td>\n",
              "    </tr>\n",
              "    <tr>\n",
              "      <th>2021-12-30</th>\n",
              "      <td>479.000000</td>\n",
              "      <td>475.670013</td>\n",
              "      <td>477.929993</td>\n",
              "      <td>476.160004</td>\n",
              "      <td>55329000.0</td>\n",
              "      <td>476.160004</td>\n",
              "      <td>477.480011</td>\n",
              "      <td>-0.002765</td>\n",
              "    </tr>\n",
              "    <tr>\n",
              "      <th>2021-12-31</th>\n",
              "      <td>476.859985</td>\n",
              "      <td>474.670013</td>\n",
              "      <td>475.640015</td>\n",
              "      <td>474.959991</td>\n",
              "      <td>65210500.0</td>\n",
              "      <td>474.959991</td>\n",
              "      <td>476.160004</td>\n",
              "      <td>-0.002520</td>\n",
              "    </tr>\n",
              "  </tbody>\n",
              "</table>\n",
              "<p>252 rows × 8 columns</p>\n",
              "</div>"
            ],
            "text/plain": [
              "                  High         Low        Open       Close       Volume  \\\n",
              "Date                                                                      \n",
              "2021-01-04  375.450012  364.820007  375.309998  368.790009  110210800.0   \n",
              "2021-01-05  372.500000  368.049988  368.100006  371.329987   66426200.0   \n",
              "2021-01-06  376.980011  369.119995  369.709991  373.549988  107997700.0   \n",
              "2021-01-07  379.899994  375.910004  376.100006  379.100006   68766800.0   \n",
              "2021-01-08  381.489990  377.100006  380.589996  381.260010   71677200.0   \n",
              "...                ...         ...         ...         ...          ...   \n",
              "2021-12-27  477.309998  472.010010  472.059998  477.260010   56808600.0   \n",
              "2021-12-28  478.809998  476.059998  477.720001  476.869995   47274600.0   \n",
              "2021-12-29  478.559998  475.920013  476.980011  477.480011   54503000.0   \n",
              "2021-12-30  479.000000  475.670013  477.929993  476.160004   55329000.0   \n",
              "2021-12-31  476.859985  474.670013  475.640015  474.959991   65210500.0   \n",
              "\n",
              "             Adj Close  close_day_before   returns  \n",
              "Date                                                \n",
              "2021-01-04  363.936432               NaN       NaN  \n",
              "2021-01-05  366.442993        368.790009  0.006887  \n",
              "2021-01-06  368.633789        371.329987  0.005979  \n",
              "2021-01-07  374.110748        373.549988  0.014857  \n",
              "2021-01-08  376.242371        379.100006  0.005698  \n",
              "...                ...               ...       ...  \n",
              "2021-12-27  477.260010        470.600006  0.014152  \n",
              "2021-12-28  476.869995        477.260010 -0.000817  \n",
              "2021-12-29  477.480011        476.869995  0.001279  \n",
              "2021-12-30  476.160004        477.480011 -0.002765  \n",
              "2021-12-31  474.959991        476.160004 -0.002520  \n",
              "\n",
              "[252 rows x 8 columns]"
            ]
          },
          "execution_count": 32,
          "metadata": {},
          "output_type": "execute_result"
        }
      ],
      "source": [
        "df"
      ]
    },
    {
      "cell_type": "code",
      "execution_count": 36,
      "metadata": {
        "id": "wmTULuV_yUME"
      },
      "outputs": [
        {
          "name": "stdout",
          "output_type": "stream",
          "text": [
            "Implied Volatility: 0.1 %\n"
          ]
        }
      ],
      "source": [
        "def call_implied_volatility(Price, S, K, T, r):\n",
        "    sigma = 0.001\n",
        "    while sigma < 1:\n",
        "        Price_implied = S * \\\n",
        "            norm_cdf(d1(S, K, T, r, sigma))-K*exp(-r*T) * \\\n",
        "            norm_cdf(d2(S, K, T, r, sigma))\n",
        "        if Price-(Price_implied) < 0.001:\n",
        "            return sigma\n",
        "        sigma += 0.001\n",
        "    return \"Not Found\"\n",
        "\n",
        "def put_implied_volatility(Price, S, K, T, r):\n",
        "    sigma = 0.001\n",
        "    while sigma < 1:\n",
        "        Price_implied = K*exp(-r*T)-S+bs_call(S, K, T, r, sigma)\n",
        "        if Price-(Price_implied) < 0.001:\n",
        "            return sigma\n",
        "        sigma += 0.001\n",
        "    return \"Not Found\"\n",
        "\n",
        "print(\"Implied Volatility: \" +\n",
        "      str(100 * call_implied_volatility(bs_call(lcp, strike_price, t, uty, sigma,), lcp, strike_price, t, uty,)) + \" %\")"
      ]
    },
    {
      "cell_type": "code",
      "execution_count": 11,
      "metadata": {
        "id": "sMI72LiIqwSX"
      },
      "outputs": [],
      "source": [
        "def call_delta(S,K,T,r,sigma):\n",
        "    return norm_cdf(d1(S,K,T,r,sigma))\n",
        "def call_gamma(S,K,T,r,sigma):\n",
        "    return norm_pdf(d1(S,K,T,r,sigma))/(S*sigma*sqrt(T))\n",
        "def call_vega(S,K,T,r,sigma):\n",
        "    return 0.01*(S*norm_pdf(d1(S,K,T,r,sigma))*sqrt(T))\n",
        "def call_theta(S,K,T,r,sigma):\n",
        "    return 0.01*(-(S*norm_pdf(d1(S,K,T,r,sigma))*sigma)/(2*sqrt(T)) - r*K*exp(-r*T)*norm_cdf(d2(S,K,T,r,sigma)))\n",
        "def call_rho(S,K,T,r,sigma):\n",
        "    return 0.01*(K*T*exp(-r*T)*norm_cdf(d2(S,K,T,r,sigma)))\n",
        "    \n",
        "def put_delta(S,K,T,r,sigma):\n",
        "    return -norm_cdf(-d1(S,K,T,r,sigma))\n",
        "def put_gamma(S,K,T,r,sigma):\n",
        "    return norm_pdf(d1(S,K,T,r,sigma))/(S*sigma*sqrt(T))\n",
        "def put_vega(S,K,T,r,sigma):\n",
        "    return 0.01*(S*norm_pdf(d1(S,K,T,r,sigma))*sqrt(T))\n",
        "def put_theta(S,K,T,r,sigma):\n",
        "    return 0.01*(-(S*norm_pdf(d1(S,K,T,r,sigma))*sigma)/(2*sqrt(T)) + r*K*exp(-r*T)*norm_cdf(-d2(S,K,T,r,sigma)))\n",
        "def put_rho(S,K,T,r,sigma):\n",
        "    return 0.01*(-K*T*exp(-r*T)*norm_cdf(-d2(S,K,T,r,sigma)))"
      ]
    }
  ],
  "metadata": {
    "colab": {
      "name": "pricer.ipynb",
      "provenance": []
    },
    "interpreter": {
      "hash": "aee8b7b246df8f9039afb4144a1f6fd8d2ca17a180786b69acc140d282b71a49"
    },
    "kernelspec": {
      "display_name": "Python 3.9.7 64-bit",
      "language": "python",
      "name": "python3"
    },
    "language_info": {
      "codemirror_mode": {
        "name": "ipython",
        "version": 3
      },
      "file_extension": ".py",
      "mimetype": "text/x-python",
      "name": "python",
      "nbconvert_exporter": "python",
      "pygments_lexer": "ipython3",
      "version": "3.9.7"
    },
    "orig_nbformat": 4
  },
  "nbformat": 4,
  "nbformat_minor": 0
}
